{
 "cells": [
  {
   "cell_type": "code",
   "execution_count": 1,
   "id": "3167d9ce",
   "metadata": {},
   "outputs": [],
   "source": [
    "import pickle\n",
    "import pandas as pd\n",
    "from sklearn.model_selection import train_test_split\n",
    "from sklearn.metrics import accuracy_score, classification_report, confusion_matrix, matthews_corrcoef\n",
    "import matplotlib.pyplot as plt\n",
    "import seaborn as sns"
   ]
  },
  {
   "cell_type": "code",
   "execution_count": 2,
   "id": "1a5cc266",
   "metadata": {},
   "outputs": [],
   "source": [
    "with open('logistic_regression_model.pkl', 'rb') as f:\n",
    "    logistic_regression_model = pickle.load(f)"
   ]
  },
  {
   "cell_type": "code",
   "execution_count": 3,
   "id": "df8d8e32",
   "metadata": {},
   "outputs": [],
   "source": [
    "with open('tuned_xgboost_model.pkl', 'rb') as f:\n",
    "    xgboost_tuned = pickle.load(f)"
   ]
  },
  {
   "cell_type": "code",
   "execution_count": 4,
   "id": "e546e9cf",
   "metadata": {},
   "outputs": [],
   "source": [
    "with open('svm_model.pkl', 'rb') as f:\n",
    "    svm_model = pickle.load(f)"
   ]
  },
  {
   "cell_type": "code",
   "execution_count": 5,
   "id": "b00c2c43",
   "metadata": {},
   "outputs": [
    {
     "name": "stderr",
     "output_type": "stream",
     "text": [
      "C:\\Users\\Nath\\anaconda3\\Lib\\site-packages\\sklearn\\base.py:347: InconsistentVersionWarning: Trying to unpickle estimator KNeighborsClassifier from version 1.4.1.post1 when using version 1.3.0. This might lead to breaking code or invalid results. Use at your own risk. For more info please refer to:\n",
      "https://scikit-learn.org/stable/model_persistence.html#security-maintainability-limitations\n",
      "  warnings.warn(\n"
     ]
    }
   ],
   "source": [
    "with open('best_knn_model.pkl', 'rb') as f:\n",
    "    knn_model = pickle.load(f)"
   ]
  },
  {
   "cell_type": "code",
   "execution_count": 6,
   "id": "70dc88ac",
   "metadata": {},
   "outputs": [],
   "source": [
    "from sklearn.ensemble import VotingClassifier"
   ]
  },
  {
   "cell_type": "code",
   "execution_count": 7,
   "id": "f34f3695",
   "metadata": {},
   "outputs": [],
   "source": [
    "classifiers = [('Logistic Regression', logistic_regression_model),\n",
    "               ('XGBoost', xgboost_tuned),\n",
    "               ('SVM', svm_model),\n",
    "               ('KNN', knn_model)]\n",
    "\n",
    "voting_classifier = VotingClassifier(estimators=classifiers, voting='hard')"
   ]
  },
  {
   "cell_type": "code",
   "execution_count": 8,
   "id": "cff69e97",
   "metadata": {},
   "outputs": [],
   "source": [
    "df = pd.read_csv('./Complete-data.csv')\n",
    "\n",
    "X = df.drop(columns=['Landslide'])\n",
    "y = df['Landslide']\n",
    "\n",
    "X_train, X_test, y_train, y_test = train_test_split(X, y, test_size=0.2, random_state=42)"
   ]
  },
  {
   "cell_type": "code",
   "execution_count": 9,
   "id": "44bbd144",
   "metadata": {},
   "outputs": [],
   "source": [
    "voting_classifier.fit(X_train, y_train)\n",
    "predictions = voting_classifier.predict(X_test)"
   ]
  },
  {
   "cell_type": "code",
   "execution_count": 10,
   "id": "1531c376",
   "metadata": {},
   "outputs": [
    {
     "name": "stdout",
     "output_type": "stream",
     "text": [
      "Voting Classifier Metrics:\n",
      "Accuracy: 0.8024691358024691\n",
      "MCC: 0.6123337804564415\n",
      "Classification Report:\n",
      "              precision    recall  f1-score   support\n",
      "\n",
      "           0       0.88      0.76      0.81       138\n",
      "           1       0.73      0.86      0.79       105\n",
      "\n",
      "    accuracy                           0.80       243\n",
      "   macro avg       0.80      0.81      0.80       243\n",
      "weighted avg       0.81      0.80      0.80       243\n",
      "\n"
     ]
    }
   ],
   "source": [
    "voting_predictions = voting_classifier.predict(X_test)\n",
    "\n",
    "# Calculate metrics for the Voting Classifier\n",
    "print(\"Voting Classifier Metrics:\")\n",
    "print(\"Accuracy:\", accuracy_score(y_test, voting_predictions))\n",
    "print(\"MCC:\", matthews_corrcoef(y_test, voting_predictions))\n",
    "print(\"Classification Report:\")\n",
    "print(classification_report(y_test, voting_predictions))"
   ]
  },
  {
   "cell_type": "code",
   "execution_count": 11,
   "id": "cfa04865",
   "metadata": {},
   "outputs": [
    {
     "data": {
      "image/png": "[encoded data removed]",
      "text/plain": [
       "<Figure size 800x600 with 1 Axes>"
      ]
     },
     "metadata": {},
     "output_type": "display_data"
    }
   ],
   "source": [
    "conf_matrix = confusion_matrix(y_test, voting_predictions)\n",
    "plt.figure(figsize=(8, 6))\n",
    "sns.heatmap(conf_matrix, annot=True, fmt=\"d\", cmap=\"Blues\", cbar=False)\n",
    "plt.title(\"Confusion Matrix\")\n",
    "plt.xlabel(\"Predicted Labels\")\n",
    "plt.ylabel(\"True Labels\")\n",
    "plt.show()"
   ]
  },
  {
   "cell_type": "code",
   "execution_count": 12,
   "id": "e6cfcf20",
   "metadata": {},
   "outputs": [
    {
     "name": "stdout",
     "output_type": "stream",
     "text": [
      "\n",
      "Metrics for Logistic Regression:\n",
      "Accuracy: 0.7242798353909465\n",
      "MCC: 0.4533219363491529\n",
      "Classification Report:\n",
      "              precision    recall  f1-score   support\n",
      "\n",
      "           0       0.79      0.70      0.74       138\n",
      "           1       0.66      0.76      0.70       105\n",
      "\n",
      "    accuracy                           0.72       243\n",
      "   macro avg       0.72      0.73      0.72       243\n",
      "weighted avg       0.73      0.72      0.73       243\n",
      "\n",
      "\n",
      "Metrics for XGBoost:\n",
      "Accuracy: 0.8353909465020576\n",
      "MCC: 0.676495812705659\n",
      "Classification Report:\n",
      "              precision    recall  f1-score   support\n",
      "\n",
      "           0       0.90      0.80      0.85       138\n",
      "           1       0.77      0.89      0.82       105\n",
      "\n",
      "    accuracy                           0.84       243\n",
      "   macro avg       0.84      0.84      0.83       243\n",
      "weighted avg       0.84      0.84      0.84       243\n",
      "\n",
      "\n",
      "Metrics for SVM:\n",
      "Accuracy: 0.7901234567901234\n",
      "MCC: 0.5938561366683022\n",
      "Classification Report:\n",
      "              precision    recall  f1-score   support\n",
      "\n",
      "           0       0.88      0.73      0.80       138\n",
      "           1       0.71      0.87      0.78       105\n",
      "\n",
      "    accuracy                           0.79       243\n",
      "   macro avg       0.79      0.80      0.79       243\n",
      "weighted avg       0.81      0.79      0.79       243\n",
      "\n",
      "\n",
      "Metrics for KNN:\n",
      "Accuracy: 0.7530864197530864\n",
      "MCC: 0.532745395071841\n",
      "Classification Report:\n",
      "              precision    recall  f1-score   support\n",
      "\n",
      "           0       0.87      0.67      0.75       138\n",
      "           1       0.66      0.87      0.75       105\n",
      "\n",
      "    accuracy                           0.75       243\n",
      "   macro avg       0.77      0.77      0.75       243\n",
      "weighted avg       0.78      0.75      0.75       243\n",
      "\n"
     ]
    }
   ],
   "source": [
    "models = [logistic_regression_model, xgboost_tuned, svm_model, knn_model]\n",
    "model_names = ['Logistic Regression', 'XGBoost', 'SVM', 'KNN']\n",
    "\n",
    "for model, name in zip(models, model_names):\n",
    "    model_predictions = model.predict(X_test)\n",
    "\n",
    "    print(f\"\\nMetrics for {name}:\")\n",
    "    print(\"Accuracy:\", accuracy_score(y_test, model_predictions))\n",
    "    print(\"MCC:\", matthews_corrcoef(y_test, model_predictions))\n",
    "    print(\"Classification Report:\")\n",
    "    print(classification_report(y_test, model_predictions))"
   ]
  },
  {
   "cell_type": "code",
   "execution_count": null,
   "id": "782c734f",
   "metadata": {},
   "outputs": [],
   "source": []
  }
 ],
 "metadata": {
  "kernelspec": {
   "display_name": "Python 3 (ipykernel)",
   "language": "python",
   "name": "python3"
  },
  "language_info": {
   "codemirror_mode": {
    "name": "ipython",
    "version": 3
   },
   "file_extension": ".py",
   "mimetype": "text/x-python",
   "name": "python",
   "nbconvert_exporter": "python",
   "pygments_lexer": "ipython3",
   "version": "3.11.5"
  }
 },
 "nbformat": 4,
 "nbformat_minor": 5
}
