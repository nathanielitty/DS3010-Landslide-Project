{
 "cells": [
  {
   "cell_type": "code",
   "execution_count": 1,
   "metadata": {},
   "outputs": [
    {
     "name": "stdout",
     "output_type": "stream",
     "text": [
      "WARNING:tensorflow:From C:\\Users\\Nath\\anaconda3\\Lib\\site-packages\\keras\\src\\losses.py:2976: The name tf.losses.sparse_softmax_cross_entropy is deprecated. Please use tf.compat.v1.losses.sparse_softmax_cross_entropy instead.\n",
      "\n"
     ]
    }
   ],
   "source": [
    "from keras.models import Sequential, Model\n",
    "from keras.layers import Dense\n",
    "from xgboost import XGBClassifier\n",
    "from sklearn.metrics import accuracy_score, confusion_matrix\n",
    "import matplotlib.pyplot as plt\n",
    "import seaborn as sns\n",
    "import numpy as np\n",
    "import pandas as pd\n",
    "from sklearn.model_selection import train_test_split"
   ]
  },
  {
   "cell_type": "code",
   "execution_count": 2,
   "metadata": {},
   "outputs": [],
   "source": [
    "df = pd.read_csv('./Complete-data.csv')\n",
    "\n",
    "X = df.drop(columns=['Landslide'])\n",
    "y = df['Landslide']\n",
    "\n",
    "X_train, X_test, y_train, y_test = train_test_split(X, y, test_size=0.2, random_state=42)"
   ]
  },
  {
   "cell_type": "code",
   "execution_count": 3,
   "metadata": {},
   "outputs": [
    {
     "name": "stdout",
     "output_type": "stream",
     "text": [
      "WARNING:tensorflow:From C:\\Users\\Nath\\anaconda3\\Lib\\site-packages\\keras\\src\\backend.py:873: The name tf.get_default_graph is deprecated. Please use tf.compat.v1.get_default_graph instead.\n",
      "\n",
      "WARNING:tensorflow:From C:\\Users\\Nath\\anaconda3\\Lib\\site-packages\\keras\\src\\optimizers\\__init__.py:309: The name tf.train.Optimizer is deprecated. Please use tf.compat.v1.train.Optimizer instead.\n",
      "\n"
     ]
    }
   ],
   "source": [
    "model = Sequential()\n",
    "model.add(Dense(128, activation='relu', input_dim=X_train.shape[1]))\n",
    "model.add(Dense(12, activation='linear', name='feature_layer'))\n",
    "model.add(Dense(1, activation='sigmoid'))  # Not used for XGBoost but needed for training\n",
    "model.compile(optimizer='adam', loss='binary_crossentropy', metrics=['accuracy'])"
   ]
  },
  {
   "cell_type": "code",
   "execution_count": 4,
   "metadata": {},
   "outputs": [
    {
     "name": "stdout",
     "output_type": "stream",
     "text": [
      "Epoch 1/50\n",
      "WARNING:tensorflow:From C:\\Users\\Nath\\anaconda3\\Lib\\site-packages\\keras\\src\\utils\\tf_utils.py:492: The name tf.ragged.RaggedTensorValue is deprecated. Please use tf.compat.v1.ragged.RaggedTensorValue instead.\n",
      "\n",
      "WARNING:tensorflow:From C:\\Users\\Nath\\anaconda3\\Lib\\site-packages\\keras\\src\\engine\\base_layer_utils.py:384: The name tf.executing_eagerly_outside_functions is deprecated. Please use tf.compat.v1.executing_eagerly_outside_functions instead.\n",
      "\n",
      "4/4 [==============================] - 1s 4ms/step - loss: 1.7957 - accuracy: 0.4819\n",
      "Epoch 2/50\n",
      "4/4 [==============================] - 0s 3ms/step - loss: 0.8651 - accuracy: 0.4923\n",
      "Epoch 3/50\n",
      "4/4 [==============================] - 0s 3ms/step - loss: 1.0209 - accuracy: 0.5181\n",
      "Epoch 4/50\n",
      "4/4 [==============================] - 0s 3ms/step - loss: 0.8619 - accuracy: 0.5459\n",
      "Epoch 5/50\n",
      "4/4 [==============================] - 0s 3ms/step - loss: 0.7149 - accuracy: 0.5449\n",
      "Epoch 6/50\n",
      "4/4 [==============================] - 0s 3ms/step - loss: 0.7338 - accuracy: 0.5397\n",
      "Epoch 7/50\n",
      "4/4 [==============================] - 0s 3ms/step - loss: 0.6651 - accuracy: 0.5944\n",
      "Epoch 8/50\n",
      "4/4 [==============================] - 0s 3ms/step - loss: 0.6093 - accuracy: 0.6852\n",
      "Epoch 9/50\n",
      "4/4 [==============================] - 0s 3ms/step - loss: 0.6063 - accuracy: 0.6718\n",
      "Epoch 10/50\n",
      "4/4 [==============================] - 0s 3ms/step - loss: 0.5741 - accuracy: 0.7214\n",
      "Epoch 11/50\n",
      "4/4 [==============================] - 0s 3ms/step - loss: 0.5718 - accuracy: 0.7203\n",
      "Epoch 12/50\n",
      "4/4 [==============================] - 0s 3ms/step - loss: 0.5613 - accuracy: 0.7327\n",
      "Epoch 13/50\n",
      "4/4 [==============================] - 0s 3ms/step - loss: 0.5529 - accuracy: 0.7461\n",
      "Epoch 14/50\n",
      "4/4 [==============================] - 0s 3ms/step - loss: 0.5489 - accuracy: 0.7472\n",
      "Epoch 15/50\n",
      "4/4 [==============================] - 0s 4ms/step - loss: 0.5435 - accuracy: 0.7503\n",
      "Epoch 16/50\n",
      "4/4 [==============================] - 0s 3ms/step - loss: 0.5413 - accuracy: 0.7492\n",
      "Epoch 17/50\n",
      "4/4 [==============================] - 0s 3ms/step - loss: 0.5365 - accuracy: 0.7554\n",
      "Epoch 18/50\n",
      "4/4 [==============================] - 0s 3ms/step - loss: 0.5336 - accuracy: 0.7616\n",
      "Epoch 19/50\n",
      "4/4 [==============================] - 0s 3ms/step - loss: 0.5302 - accuracy: 0.7595\n",
      "Epoch 20/50\n",
      "4/4 [==============================] - 0s 4ms/step - loss: 0.5276 - accuracy: 0.7585\n",
      "Epoch 21/50\n",
      "4/4 [==============================] - 0s 3ms/step - loss: 0.5245 - accuracy: 0.7595\n",
      "Epoch 22/50\n",
      "4/4 [==============================] - 0s 4ms/step - loss: 0.5235 - accuracy: 0.7626\n",
      "Epoch 23/50\n",
      "4/4 [==============================] - 0s 4ms/step - loss: 0.5202 - accuracy: 0.7647\n",
      "Epoch 24/50\n",
      "4/4 [==============================] - 0s 3ms/step - loss: 0.5186 - accuracy: 0.7688\n",
      "Epoch 25/50\n",
      "4/4 [==============================] - 0s 3ms/step - loss: 0.5153 - accuracy: 0.7688\n",
      "Epoch 26/50\n",
      "4/4 [==============================] - 0s 3ms/step - loss: 0.5138 - accuracy: 0.7709\n",
      "Epoch 27/50\n",
      "4/4 [==============================] - 0s 3ms/step - loss: 0.5104 - accuracy: 0.7730\n",
      "Epoch 28/50\n",
      "4/4 [==============================] - 0s 3ms/step - loss: 0.5093 - accuracy: 0.7688\n",
      "Epoch 29/50\n",
      "4/4 [==============================] - 0s 3ms/step - loss: 0.5060 - accuracy: 0.7709\n",
      "Epoch 30/50\n",
      "4/4 [==============================] - 0s 3ms/step - loss: 0.5048 - accuracy: 0.7771\n",
      "Epoch 31/50\n",
      "4/4 [==============================] - 0s 3ms/step - loss: 0.5017 - accuracy: 0.7792\n",
      "Epoch 32/50\n",
      "4/4 [==============================] - 0s 3ms/step - loss: 0.4994 - accuracy: 0.7812\n",
      "Epoch 33/50\n",
      "4/4 [==============================] - 0s 3ms/step - loss: 0.4973 - accuracy: 0.7781\n",
      "Epoch 34/50\n",
      "4/4 [==============================] - 0s 3ms/step - loss: 0.4953 - accuracy: 0.7812\n",
      "Epoch 35/50\n",
      "4/4 [==============================] - 0s 3ms/step - loss: 0.4933 - accuracy: 0.7812\n",
      "Epoch 36/50\n",
      "4/4 [==============================] - 0s 3ms/step - loss: 0.4936 - accuracy: 0.7781\n",
      "Epoch 37/50\n",
      "4/4 [==============================] - 0s 3ms/step - loss: 0.4929 - accuracy: 0.7812\n",
      "Epoch 38/50\n",
      "4/4 [==============================] - 0s 5ms/step - loss: 0.4863 - accuracy: 0.7843\n",
      "Epoch 39/50\n",
      "4/4 [==============================] - 0s 4ms/step - loss: 0.4856 - accuracy: 0.7833\n",
      "Epoch 40/50\n",
      "4/4 [==============================] - 0s 4ms/step - loss: 0.4833 - accuracy: 0.7864\n",
      "Epoch 41/50\n",
      "4/4 [==============================] - 0s 3ms/step - loss: 0.4806 - accuracy: 0.7874\n",
      "Epoch 42/50\n",
      "4/4 [==============================] - 0s 4ms/step - loss: 0.4783 - accuracy: 0.7874\n",
      "Epoch 43/50\n",
      "4/4 [==============================] - 0s 4ms/step - loss: 0.4770 - accuracy: 0.7895\n",
      "Epoch 44/50\n",
      "4/4 [==============================] - 0s 3ms/step - loss: 0.4752 - accuracy: 0.7905\n",
      "Epoch 45/50\n",
      "4/4 [==============================] - 0s 4ms/step - loss: 0.4755 - accuracy: 0.7864\n",
      "Epoch 46/50\n",
      "4/4 [==============================] - 0s 3ms/step - loss: 0.4727 - accuracy: 0.7936\n",
      "Epoch 47/50\n",
      "4/4 [==============================] - 0s 5ms/step - loss: 0.4691 - accuracy: 0.7926\n",
      "Epoch 48/50\n",
      "4/4 [==============================] - 0s 3ms/step - loss: 0.4698 - accuracy: 0.7915\n",
      "Epoch 49/50\n",
      "4/4 [==============================] - 0s 3ms/step - loss: 0.4650 - accuracy: 0.7957\n",
      "Epoch 50/50\n",
      "4/4 [==============================] - 0s 3ms/step - loss: 0.4636 - accuracy: 0.7988\n"
     ]
    },
    {
     "data": {
      "text/plain": [
       "<keras.src.callbacks.History at 0x10e7d655950>"
      ]
     },
     "execution_count": 4,
     "metadata": {},
     "output_type": "execute_result"
    }
   ],
   "source": [
    "model.fit(X_train, y_train, epochs=50, batch_size=256, verbose=1)"
   ]
  },
  {
   "cell_type": "code",
   "execution_count": 5,
   "metadata": {},
   "outputs": [],
   "source": [
    "feature_model = Model(inputs=model.input, outputs=model.get_layer('feature_layer').output)"
   ]
  },
  {
   "cell_type": "code",
   "execution_count": 6,
   "metadata": {},
   "outputs": [
    {
     "name": "stdout",
     "output_type": "stream",
     "text": [
      "31/31 [==============================] - 0s 920us/step\n",
      "8/8 [==============================] - 0s 1ms/step\n"
     ]
    }
   ],
   "source": [
    "X_train_features = feature_model.predict(X_train)\n",
    "X_test_features = feature_model.predict(X_test)"
   ]
  },
  {
   "cell_type": "code",
   "execution_count": 7,
   "metadata": {},
   "outputs": [
    {
     "data": {
      "text/html": [
       "<style>#sk-container-id-1 {color: black;}#sk-container-id-1 pre{padding: 0;}#sk-container-id-1 div.sk-toggleable {background-color: white;}#sk-container-id-1 label.sk-toggleable__label {cursor: pointer;display: block;width: 100%;margin-bottom: 0;padding: 0.3em;box-sizing: border-box;text-align: center;}#sk-container-id-1 label.sk-toggleable__label-arrow:before {content: \"▸\";float: left;margin-right: 0.25em;color: #696969;}#sk-container-id-1 label.sk-toggleable__label-arrow:hover:before {color: black;}#sk-container-id-1 div.sk-estimator:hover label.sk-toggleable__label-arrow:before {color: black;}#sk-container-id-1 div.sk-toggleable__content {max-height: 0;max-width: 0;overflow: hidden;text-align: left;background-color: #f0f8ff;}#sk-container-id-1 div.sk-toggleable__content pre {margin: 0.2em;color: black;border-radius: 0.25em;background-color: #f0f8ff;}#sk-container-id-1 input.sk-toggleable__control:checked~div.sk-toggleable__content {max-height: 200px;max-width: 100%;overflow: auto;}#sk-container-id-1 input.sk-toggleable__control:checked~label.sk-toggleable__label-arrow:before {content: \"▾\";}#sk-container-id-1 div.sk-estimator input.sk-toggleable__control:checked~label.sk-toggleable__label {background-color: #d4ebff;}#sk-container-id-1 div.sk-label input.sk-toggleable__control:checked~label.sk-toggleable__label {background-color: #d4ebff;}#sk-container-id-1 input.sk-hidden--visually {border: 0;clip: rect(1px 1px 1px 1px);clip: rect(1px, 1px, 1px, 1px);height: 1px;margin: -1px;overflow: hidden;padding: 0;position: absolute;width: 1px;}#sk-container-id-1 div.sk-estimator {font-family: monospace;background-color: #f0f8ff;border: 1px dotted black;border-radius: 0.25em;box-sizing: border-box;margin-bottom: 0.5em;}#sk-container-id-1 div.sk-estimator:hover {background-color: #d4ebff;}#sk-container-id-1 div.sk-parallel-item::after {content: \"\";width: 100%;border-bottom: 1px solid gray;flex-grow: 1;}#sk-container-id-1 div.sk-label:hover label.sk-toggleable__label {background-color: #d4ebff;}#sk-container-id-1 div.sk-serial::before {content: \"\";position: absolute;border-left: 1px solid gray;box-sizing: border-box;top: 0;bottom: 0;left: 50%;z-index: 0;}#sk-container-id-1 div.sk-serial {display: flex;flex-direction: column;align-items: center;background-color: white;padding-right: 0.2em;padding-left: 0.2em;position: relative;}#sk-container-id-1 div.sk-item {position: relative;z-index: 1;}#sk-container-id-1 div.sk-parallel {display: flex;align-items: stretch;justify-content: center;background-color: white;position: relative;}#sk-container-id-1 div.sk-item::before, #sk-container-id-1 div.sk-parallel-item::before {content: \"\";position: absolute;border-left: 1px solid gray;box-sizing: border-box;top: 0;bottom: 0;left: 50%;z-index: -1;}#sk-container-id-1 div.sk-parallel-item {display: flex;flex-direction: column;z-index: 1;position: relative;background-color: white;}#sk-container-id-1 div.sk-parallel-item:first-child::after {align-self: flex-end;width: 50%;}#sk-container-id-1 div.sk-parallel-item:last-child::after {align-self: flex-start;width: 50%;}#sk-container-id-1 div.sk-parallel-item:only-child::after {width: 0;}#sk-container-id-1 div.sk-dashed-wrapped {border: 1px dashed gray;margin: 0 0.4em 0.5em 0.4em;box-sizing: border-box;padding-bottom: 0.4em;background-color: white;}#sk-container-id-1 div.sk-label label {font-family: monospace;font-weight: bold;display: inline-block;line-height: 1.2em;}#sk-container-id-1 div.sk-label-container {text-align: center;}#sk-container-id-1 div.sk-container {/* jupyter's `normalize.less` sets `[hidden] { display: none; }` but bootstrap.min.css set `[hidden] { display: none !important; }` so we also need the `!important` here to be able to override the default hidden behavior on the sphinx rendered scikit-learn.org. See: https://github.com/scikit-learn/scikit-learn/issues/21755 */display: inline-block !important;position: relative;}#sk-container-id-1 div.sk-text-repr-fallback {display: none;}</style><div id=\"sk-container-id-1\" class=\"sk-top-container\"><div class=\"sk-text-repr-fallback\"><pre>XGBClassifier(base_score=None, booster=None, callbacks=None,\n",
       "              colsample_bylevel=None, colsample_bynode=None,\n",
       "              colsample_bytree=0.7, device=None, early_stopping_rounds=None,\n",
       "              enable_categorical=False, eval_metric=&#x27;logloss&#x27;,\n",
       "              feature_types=None, gamma=None, grow_policy=None,\n",
       "              importance_type=None, interaction_constraints=None,\n",
       "              learning_rate=0.1, max_bin=None, max_cat_threshold=None,\n",
       "              max_cat_to_onehot=None, max_delta_step=None, max_depth=5,\n",
       "              max_leaves=None, min_child_weight=1, missing=nan,\n",
       "              monotone_constraints=None, multi_strategy=None, n_estimators=None,\n",
       "              n_jobs=None, num_parallel_tree=None, random_state=None, ...)</pre><b>In a Jupyter environment, please rerun this cell to show the HTML representation or trust the notebook. <br />On GitHub, the HTML representation is unable to render, please try loading this page with nbviewer.org.</b></div><div class=\"sk-container\" hidden><div class=\"sk-item\"><div class=\"sk-estimator sk-toggleable\"><input class=\"sk-toggleable__control sk-hidden--visually\" id=\"sk-estimator-id-1\" type=\"checkbox\" checked><label for=\"sk-estimator-id-1\" class=\"sk-toggleable__label sk-toggleable__label-arrow\">XGBClassifier</label><div class=\"sk-toggleable__content\"><pre>XGBClassifier(base_score=None, booster=None, callbacks=None,\n",
       "              colsample_bylevel=None, colsample_bynode=None,\n",
       "              colsample_bytree=0.7, device=None, early_stopping_rounds=None,\n",
       "              enable_categorical=False, eval_metric=&#x27;logloss&#x27;,\n",
       "              feature_types=None, gamma=None, grow_policy=None,\n",
       "              importance_type=None, interaction_constraints=None,\n",
       "              learning_rate=0.1, max_bin=None, max_cat_threshold=None,\n",
       "              max_cat_to_onehot=None, max_delta_step=None, max_depth=5,\n",
       "              max_leaves=None, min_child_weight=1, missing=nan,\n",
       "              monotone_constraints=None, multi_strategy=None, n_estimators=None,\n",
       "              n_jobs=None, num_parallel_tree=None, random_state=None, ...)</pre></div></div></div></div></div>"
      ],
      "text/plain": [
       "XGBClassifier(base_score=None, booster=None, callbacks=None,\n",
       "              colsample_bylevel=None, colsample_bynode=None,\n",
       "              colsample_bytree=0.7, device=None, early_stopping_rounds=None,\n",
       "              enable_categorical=False, eval_metric='logloss',\n",
       "              feature_types=None, gamma=None, grow_policy=None,\n",
       "              importance_type=None, interaction_constraints=None,\n",
       "              learning_rate=0.1, max_bin=None, max_cat_threshold=None,\n",
       "              max_cat_to_onehot=None, max_delta_step=None, max_depth=5,\n",
       "              max_leaves=None, min_child_weight=1, missing=nan,\n",
       "              monotone_constraints=None, multi_strategy=None, n_estimators=None,\n",
       "              n_jobs=None, num_parallel_tree=None, random_state=None, ...)"
      ]
     },
     "execution_count": 7,
     "metadata": {},
     "output_type": "execute_result"
    }
   ],
   "source": [
    "xgb = XGBClassifier(use_label_encoder=False, eval_metric='logloss', colsample_bytree = 0.7, learning_rate = 0.1, max_depth = 5, min_child_weight = 1, subsample = 0.9)\n",
    "xgb.fit(X_train_features, y_train)"
   ]
  },
  {
   "cell_type": "code",
   "execution_count": 8,
   "metadata": {},
   "outputs": [
    {
     "name": "stdout",
     "output_type": "stream",
     "text": [
      "XGBoost Accuracy: 0.7613168724279835\n"
     ]
    }
   ],
   "source": [
    "y_pred = xgb.predict(X_test_features)\n",
    "accuracy = accuracy_score(y_test, y_pred)\n",
    "print(f\"XGBoost Accuracy: {accuracy}\")"
   ]
  },
  {
   "cell_type": "code",
   "execution_count": 9,
   "metadata": {},
   "outputs": [
    {
     "data": {
      "image/png": "[encoded data removed]",
      "text/plain": [
       "<Figure size 1000x700 with 2 Axes>"
      ]
     },
     "metadata": {},
     "output_type": "display_data"
    }
   ],
   "source": [
    "cm = confusion_matrix(y_test, y_pred)\n",
    "plt.figure(figsize=(10, 7))\n",
    "sns.heatmap(cm, annot=True, fmt=\"d\", cmap=\"Blues\")\n",
    "plt.ylabel('Actual')\n",
    "plt.xlabel('Predicted')\n",
    "plt.title('Confusion Matrix')\n",
    "plt.show()"
   ]
  },
  {
   "cell_type": "code",
   "execution_count": 10,
   "metadata": {},
   "outputs": [],
   "source": [
    "import pickle\n",
    "\n",
    "with open('nn_xgb.pkl', 'wb') as f:\n",
    "    pickle.dump(xgb, f)"
   ]
  },
  {
   "cell_type": "code",
   "execution_count": null,
   "metadata": {},
   "outputs": [],
   "source": []
  }
 ],
 "metadata": {
  "kernelspec": {
   "display_name": "Python 3 (ipykernel)",
   "language": "python",
   "name": "python3"
  },
  "language_info": {
   "codemirror_mode": {
    "name": "ipython",
    "version": 3
   },
   "file_extension": ".py",
   "mimetype": "text/x-python",
   "name": "python",
   "nbconvert_exporter": "python",
   "pygments_lexer": "ipython3",
   "version": "3.11.5"
  }
 },
 "nbformat": 4,
 "nbformat_minor": 2
}
