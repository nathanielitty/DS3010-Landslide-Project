{
 "cells": [
  {
   "cell_type": "code",
   "execution_count": 1,
   "id": "6a53d6d2c00e02bf",
   "metadata": {
    "ExecuteTime": {
     "end_time": "2024-02-22T04:40:42.664138300Z",
     "start_time": "2024-02-22T04:40:38.097524400Z"
    }
   },
   "outputs": [
    {
     "name": "stdout",
     "output_type": "stream",
     "text": [
      "Requirement already satisfied: xgboost in c:\\users\\nath\\anaconda3\\lib\\site-packages (2.0.3)\n",
      "Requirement already satisfied: numpy in c:\\users\\nath\\anaconda3\\lib\\site-packages (from xgboost) (1.24.3)\n",
      "Requirement already satisfied: scipy in c:\\users\\nath\\anaconda3\\lib\\site-packages (from xgboost) (1.11.1)\n"
     ]
    },
    {
     "name": "stderr",
     "output_type": "stream",
     "text": [
      "WARNING: There was an error checking the latest version of pip.\n"
     ]
    }
   ],
   "source": [
    "!pip install xgboost"
   ]
  },
  {
   "cell_type": "code",
   "execution_count": 2,
   "id": "68f304db",
   "metadata": {
    "ExecuteTime": {
     "end_time": "2024-02-22T04:40:42.665141200Z",
     "start_time": "2024-02-22T04:40:42.652118900Z"
    }
   },
   "outputs": [],
   "source": [
    "import pandas as pd\n",
    "import sklearn.metrics as metrics\n",
    "from sklearn.model_selection import train_test_split\n",
    "import xgboost as xgb\n",
    "from sklearn.metrics import accuracy_score\n",
    "from sklearn.model_selection import GridSearchCV"
   ]
  },
  {
   "cell_type": "code",
   "execution_count": 3,
   "id": "7deee7fa",
   "metadata": {
    "ExecuteTime": {
     "end_time": "2024-02-22T04:40:42.727339700Z",
     "start_time": "2024-02-22T04:40:42.659143Z"
    }
   },
   "outputs": [],
   "source": [
    "df = pd.read_csv('./Complete-data.csv')\n",
    "\n",
    "X = df.drop(columns=['Landslide'])\n",
    "y = df['Landslide']\n",
    "\n",
    "X_train, X_test, y_train, y_test = train_test_split(X, y, test_size=0.2, random_state=42)"
   ]
  },
  {
   "cell_type": "code",
   "execution_count": 17,
   "id": "c5d7c02e",
   "metadata": {
    "ExecuteTime": {
     "end_time": "2024-02-22T04:40:42.838251200Z",
     "start_time": "2024-02-22T04:40:42.690135700Z"
    }
   },
   "outputs": [
    {
     "name": "stdout",
     "output_type": "stream",
     "text": [
      "Base Model Accuracy: 0.757201646090535\n"
     ]
    }
   ],
   "source": [
    "clf = xgb.XGBClassifier(random_state=1)\n",
    "clf.fit(X_train, y_train)\n",
    "\n",
    "pred = clf.predict(X_test)\n",
    "\n",
    "base_accuracy = accuracy_score(y_test, pred)\n",
    "print(\"Base Model Accuracy:\", base_accuracy)"
   ]
  },
  {
   "cell_type": "code",
   "execution_count": 5,
   "id": "7dd2932d",
   "metadata": {
    "ExecuteTime": {
     "end_time": "2024-02-22T04:43:12.655544700Z",
     "start_time": "2024-02-22T04:40:42.841254300Z"
    }
   },
   "outputs": [
    {
     "name": "stdout",
     "output_type": "stream",
     "text": [
      "Best Parameters: {'colsample_bytree': 0.7, 'learning_rate': 0.1, 'max_depth': 5, 'min_child_weight': 1, 'subsample': 0.9}\n",
      "Best Score: 0.8029111692751456\n"
     ]
    }
   ],
   "source": [
    "# Define parameter grid\n",
    "param_grid = {\n",
    "    'learning_rate': [0.01, 0.1, 0.2],\n",
    "    'max_depth': [3, 5, 7],\n",
    "    'min_child_weight': [1, 3, 5],\n",
    "    'subsample': [0.5, 0.7, 0.9],\n",
    "    'colsample_bytree': [0.5, 0.7, 0.9],\n",
    "}\n",
    "\n",
    "# Create XGBoost classifier\n",
    "clf = xgb.XGBClassifier(random_state=1)\n",
    "\n",
    "# Perform grid search\n",
    "grid_search = GridSearchCV(estimator=clf, param_grid=param_grid, cv=5, scoring='accuracy')\n",
    "grid_search.fit(X_train, y_train)\n",
    "\n",
    "# Get the best parameters and the best score\n",
    "best_params = grid_search.best_params_\n",
    "best_score = grid_search.best_score_\n",
    "\n",
    "print(\"Best Parameters:\", best_params)\n",
    "print(\"Best Score:\", best_score)"
   ]
  },
  {
   "cell_type": "code",
   "execution_count": 6,
   "id": "68dc89dd",
   "metadata": {
    "ExecuteTime": {
     "end_time": "2024-02-22T05:02:27.031070200Z",
     "start_time": "2024-02-22T05:02:25.107372300Z"
    }
   },
   "outputs": [
    {
     "name": "stdout",
     "output_type": "stream",
     "text": [
      "Tuned Model Accuracy: 0.7901234567901234\n"
     ]
    }
   ],
   "source": [
    "tuned_model = xgb.XGBClassifier(**best_params, random_state=1)\n",
    "tuned_model.fit(X_train, y_train)\n",
    "\n",
    "pred = tuned_model.predict(X_test)\n",
    "\n",
    "tuned_accuracy = accuracy_score(y_test, pred)\n",
    "print(\"Tuned Model Accuracy:\", tuned_accuracy)"
   ]
  },
  {
   "cell_type": "code",
   "execution_count": 7,
   "id": "151e98d9c61342bd",
   "metadata": {
    "ExecuteTime": {
     "end_time": "2024-02-22T04:43:12.834919800Z",
     "start_time": "2024-02-22T04:43:12.823929600Z"
    }
   },
   "outputs": [],
   "source": [
    "import pickle"
   ]
  },
  {
   "cell_type": "code",
   "execution_count": 8,
   "id": "cb8482f6c21e716",
   "metadata": {
    "ExecuteTime": {
     "end_time": "2024-02-22T04:43:12.902807900Z",
     "start_time": "2024-02-22T04:43:12.837915900Z"
    }
   },
   "outputs": [],
   "source": [
    "with open('tuned_xgboost_model.pkl', 'wb') as f:\n",
    "    pickle.dump(tuned_model, f)"
   ]
  },
  {
   "cell_type": "code",
   "execution_count": 9,
   "id": "d9dc40a392018bd4",
   "metadata": {
    "ExecuteTime": {
     "end_time": "2024-02-22T04:43:17.101131600Z",
     "start_time": "2024-02-22T04:43:12.851178700Z"
    }
   },
   "outputs": [
    {
     "name": "stdout",
     "output_type": "stream",
     "text": [
      "Requirement already satisfied: seaborn in c:\\users\\nath\\anaconda3\\lib\\site-packages (0.12.2)\n",
      "Requirement already satisfied: numpy!=1.24.0,>=1.17 in c:\\users\\nath\\anaconda3\\lib\\site-packages (from seaborn) (1.24.3)\n",
      "Requirement already satisfied: pandas>=0.25 in c:\\users\\nath\\anaconda3\\lib\\site-packages (from seaborn) (2.0.3)\n",
      "Requirement already satisfied: matplotlib!=3.6.1,>=3.1 in c:\\users\\nath\\anaconda3\\lib\\site-packages (from seaborn) (3.7.2)\n",
      "Requirement already satisfied: contourpy>=1.0.1 in c:\\users\\nath\\anaconda3\\lib\\site-packages (from matplotlib!=3.6.1,>=3.1->seaborn) (1.0.5)\n",
      "Requirement already satisfied: cycler>=0.10 in c:\\users\\nath\\anaconda3\\lib\\site-packages (from matplotlib!=3.6.1,>=3.1->seaborn) (0.11.0)\n",
      "Requirement already satisfied: fonttools>=4.22.0 in c:\\users\\nath\\anaconda3\\lib\\site-packages (from matplotlib!=3.6.1,>=3.1->seaborn) (4.25.0)\n",
      "Requirement already satisfied: kiwisolver>=1.0.1 in c:\\users\\nath\\anaconda3\\lib\\site-packages (from matplotlib!=3.6.1,>=3.1->seaborn) (1.4.4)\n",
      "Requirement already satisfied: packaging>=20.0 in c:\\users\\nath\\anaconda3\\lib\\site-packages (from matplotlib!=3.6.1,>=3.1->seaborn) (23.1)\n",
      "Requirement already satisfied: pillow>=6.2.0 in c:\\users\\nath\\anaconda3\\lib\\site-packages (from matplotlib!=3.6.1,>=3.1->seaborn) (9.4.0)\n",
      "Requirement already satisfied: pyparsing<3.1,>=2.3.1 in c:\\users\\nath\\anaconda3\\lib\\site-packages (from matplotlib!=3.6.1,>=3.1->seaborn) (3.0.9)\n",
      "Requirement already satisfied: python-dateutil>=2.7 in c:\\users\\nath\\anaconda3\\lib\\site-packages (from matplotlib!=3.6.1,>=3.1->seaborn) (2.8.2)\n",
      "Requirement already satisfied: pytz>=2020.1 in c:\\users\\nath\\anaconda3\\lib\\site-packages (from pandas>=0.25->seaborn) (2023.3.post1)\n",
      "Requirement already satisfied: tzdata>=2022.1 in c:\\users\\nath\\anaconda3\\lib\\site-packages (from pandas>=0.25->seaborn) (2023.3)\n",
      "Requirement already satisfied: six>=1.5 in c:\\users\\nath\\anaconda3\\lib\\site-packages (from python-dateutil>=2.7->matplotlib!=3.6.1,>=3.1->seaborn) (1.16.0)\n"
     ]
    },
    {
     "name": "stderr",
     "output_type": "stream",
     "text": [
      "WARNING: There was an error checking the latest version of pip.\n"
     ]
    }
   ],
   "source": [
    "!pip install seaborn"
   ]
  },
  {
   "cell_type": "code",
   "execution_count": 10,
   "id": "77e8a1ab276d0853",
   "metadata": {
    "ExecuteTime": {
     "end_time": "2024-02-22T04:43:17.102429200Z",
     "start_time": "2024-02-22T04:43:17.083997100Z"
    }
   },
   "outputs": [],
   "source": [
    "from sklearn.metrics import confusion_matrix\n",
    "import seaborn as sns\n",
    "import matplotlib.pyplot as plt"
   ]
  },
  {
   "cell_type": "code",
   "execution_count": 11,
   "id": "3b9ff349",
   "metadata": {
    "ExecuteTime": {
     "end_time": "2024-02-22T05:02:42.824132600Z",
     "start_time": "2024-02-22T05:02:42.295584700Z"
    }
   },
   "outputs": [
    {
     "data": {
      "image/png": "[encoded data removed]",
      "text/plain": [
       "<Figure size 800x600 with 1 Axes>"
      ]
     },
     "metadata": {},
     "output_type": "display_data"
    }
   ],
   "source": [
    "conf_matrix = confusion_matrix(y_test, pred)\n",
    "plt.figure(figsize=(8, 6))\n",
    "sns.heatmap(conf_matrix, annot=True, fmt=\"d\", cmap=\"Blues\", cbar=False)\n",
    "plt.title(\"Confusion Matrix\")\n",
    "plt.xlabel(\"Predicted Labels\")\n",
    "plt.ylabel(\"True Labels\")\n",
    "plt.savefig('xgboost_gridsearch_confusion_matrix.png')\n",
    "plt.show()"
   ]
  },
  {
   "cell_type": "code",
   "execution_count": 12,
   "id": "2c88b766febf080b",
   "metadata": {
    "ExecuteTime": {
     "end_time": "2024-02-22T04:46:10.720762900Z",
     "start_time": "2024-02-22T04:46:07.821680Z"
    }
   },
   "outputs": [],
   "source": [
    "import xgboost as xgb\n",
    "from sklearn.model_selection import RandomizedSearchCV\n",
    "import scipy.stats as stats"
   ]
  },
  {
   "cell_type": "code",
   "execution_count": 13,
   "id": "7804af4a523d59f0",
   "metadata": {
    "ExecuteTime": {
     "end_time": "2024-02-22T04:50:13.295390700Z",
     "start_time": "2024-02-22T04:46:18.678533200Z"
    }
   },
   "outputs": [
    {
     "name": "stdout",
     "output_type": "stream",
     "text": [
      "Best set of hyperparameters:  {'learning_rate': 0.035772477599669686, 'max_depth': 4, 'n_estimators': 181, 'subsample': 0.5313612977892944}\n",
      "Best score:  0.7936435019496821\n"
     ]
    }
   ],
   "source": [
    "param_dist = {\n",
    "    'max_depth': stats.randint(3, 10),\n",
    "    'learning_rate': stats.uniform(0.01, 0.1),\n",
    "    'subsample': stats.uniform(0.5, 0.5),\n",
    "    'n_estimators':stats.randint(50, 200)\n",
    "}\n",
    "\n",
    "# Create the XGBoost model object\n",
    "xgb_model = xgb.XGBClassifier()\n",
    "\n",
    "# Create the RandomizedSearchCV object\n",
    "random_search = RandomizedSearchCV(xgb_model, param_distributions=param_dist, n_iter=10, cv=5, scoring='accuracy')\n",
    "\n",
    "# Fit the RandomizedSearchCV object to the training data\n",
    "random_search.fit(X_train, y_train)\n",
    "\n",
    "# Print the best set of hyperparameters and the corresponding score\n",
    "print(\"Best set of hyperparameters: \", random_search.best_params_)\n",
    "print(\"Best score: \", random_search.best_score_)"
   ]
  },
  {
   "cell_type": "code",
   "execution_count": 14,
   "id": "13fe59929da56943",
   "metadata": {
    "ExecuteTime": {
     "end_time": "2024-02-22T05:00:06.307174600Z",
     "start_time": "2024-02-22T05:00:06.080557Z"
    }
   },
   "outputs": [
    {
     "name": "stdout",
     "output_type": "stream",
     "text": [
      "Random Search Model Accuracy: 0.7942386831275721\n"
     ]
    }
   ],
   "source": [
    "rand_model = xgb.XGBClassifier(**random_search.best_params_, random_state=1)\n",
    "rand_model.fit(X_train, y_train)\n",
    "\n",
    "pred = rand_model.predict(X_test)\n",
    "\n",
    "rand_accuracy = accuracy_score(y_test, pred)\n",
    "print(\"Random Search Model Accuracy:\", rand_accuracy)"
   ]
  },
  {
   "cell_type": "code",
   "execution_count": 15,
   "id": "edc827fdd8bc93c2",
   "metadata": {
    "ExecuteTime": {
     "end_time": "2024-02-22T05:00:22.386847500Z",
     "start_time": "2024-02-22T05:00:22.369132700Z"
    }
   },
   "outputs": [],
   "source": [
    "with open('random_search_xgboost_model.pkl', 'wb') as f:\n",
    "    pickle.dump(rand_model, f)"
   ]
  },
  {
   "cell_type": "code",
   "execution_count": 16,
   "id": "33e4ed7f61ad62c9",
   "metadata": {
    "ExecuteTime": {
     "end_time": "2024-02-22T05:01:13.345018500Z",
     "start_time": "2024-02-22T05:01:13.149283800Z"
    }
   },
   "outputs": [
    {
     "data": {
      "image/png": "[encoded data removed]",
      "text/plain": [
       "<Figure size 800x600 with 1 Axes>"
      ]
     },
     "metadata": {},
     "output_type": "display_data"
    }
   ],
   "source": [
    "conf_matrix = confusion_matrix(y_test, pred)\n",
    "plt.figure(figsize=(8, 6))\n",
    "sns.heatmap(conf_matrix, annot=True, fmt=\"d\", cmap=\"Blues\", cbar=False)\n",
    "plt.title(\"Confusion Matrix\")\n",
    "plt.xlabel(\"Predicted Labels\")\n",
    "plt.ylabel(\"True Labels\")\n",
    "plt.savefig('xgboost_randomsearch_confusion_matrix.png')\n",
    "plt.show()"
   ]
  },
  {
   "cell_type": "code",
   "execution_count": null,
   "id": "ab00301fee23f095",
   "metadata": {},
   "outputs": [],
   "source": []
  }
 ],
 "metadata": {
  "kernelspec": {
   "display_name": "Python 3 (ipykernel)",
   "language": "python",
   "name": "python3"
  },
  "language_info": {
   "codemirror_mode": {
    "name": "ipython",
    "version": 3
   },
   "file_extension": ".py",
   "mimetype": "text/x-python",
   "name": "python",
   "nbconvert_exporter": "python",
   "pygments_lexer": "ipython3",
   "version": "3.11.5"
  }
 },
 "nbformat": 4,
 "nbformat_minor": 5
}
