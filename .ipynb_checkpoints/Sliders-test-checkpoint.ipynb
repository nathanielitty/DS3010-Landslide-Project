{
 "cells": [
  {
   "cell_type": "code",
   "execution_count": 2,
   "id": "3167d9ce",
   "metadata": {},
   "outputs": [],
   "source": [
    "import pickle\n",
    "import pandas as pd\n",
    "from sklearn.model_selection import train_test_split\n",
    "from sklearn.metrics import accuracy_score, classification_report, confusion_matrix, matthews_corrcoef\n",
    "import matplotlib.pyplot as plt\n",
    "import seaborn as sns"
   ]
  },
  {
   "cell_type": "code",
   "execution_count": 3,
   "id": "1a5cc266",
   "metadata": {},
   "outputs": [],
   "source": [
    "with open('logistic_regression_model.pkl', 'rb') as f:\n",
    "    logistic_regression_model = pickle.load(f)"
   ]
  },
  {
   "cell_type": "code",
   "execution_count": 4,
   "id": "df8d8e32",
   "metadata": {},
   "outputs": [],
   "source": [
    "with open('tuned_xgboost_model.pkl', 'rb') as f:\n",
    "    xgboost_tuned = pickle.load(f)"
   ]
  },
  {
   "cell_type": "code",
   "execution_count": 5,
   "id": "e546e9cf",
   "metadata": {},
   "outputs": [],
   "source": [
    "with open('svm_model.pkl', 'rb') as f:\n",
    "    svm_model = pickle.load(f)"
   ]
  },
  {
   "cell_type": "code",
   "execution_count": 6,
   "id": "b00c2c43",
   "metadata": {},
   "outputs": [
    {
     "name": "stderr",
     "output_type": "stream",
     "text": [
      "C:\\Users\\Nath\\anaconda3\\Lib\\site-packages\\sklearn\\base.py:347: InconsistentVersionWarning: Trying to unpickle estimator KNeighborsClassifier from version 1.4.1.post1 when using version 1.3.0. This might lead to breaking code or invalid results. Use at your own risk. For more info please refer to:\n",
      "https://scikit-learn.org/stable/model_persistence.html#security-maintainability-limitations\n",
      "  warnings.warn(\n"
     ]
    }
   ],
   "source": [
    "with open('best_knn_model.pkl', 'rb') as f:\n",
    "    knn_model = pickle.load(f)"
   ]
  },
  {
   "cell_type": "code",
   "execution_count": 7,
   "id": "70dc88ac",
   "metadata": {},
   "outputs": [],
   "source": [
    "from sklearn.ensemble import VotingClassifier"
   ]
  },
  {
   "cell_type": "code",
   "execution_count": 8,
   "id": "f34f3695",
   "metadata": {},
   "outputs": [],
   "source": [
    "classifiers = [('Logistic Regression', logistic_regression_model),\n",
    "               ('XGBoost', xgboost_tuned),\n",
    "               ('SVM', svm_model),\n",
    "               ('KNN', knn_model)]\n",
    "\n",
    "voting_classifier = VotingClassifier(estimators=classifiers, voting='hard')"
   ]
  },
  {
   "cell_type": "code",
   "execution_count": 9,
   "id": "cff69e97",
   "metadata": {},
   "outputs": [],
   "source": [
    "df = pd.read_csv('./Complete-data.csv')\n",
    "\n",
    "X = df.drop(columns=['Landslide'])\n",
    "y = df['Landslide']\n",
    "\n",
    "X_train, X_test, y_train, y_test = train_test_split(X, y, test_size=0.2, random_state=42)"
   ]
  },
  {
   "cell_type": "code",
   "execution_count": 10,
   "id": "44bbd144",
   "metadata": {},
   "outputs": [],
   "source": [
    "voting_classifier.fit(X_train, y_train)\n",
    "predictions = voting_classifier.predict(X_test)"
   ]
  },
  {
   "cell_type": "code",
   "execution_count": 11,
   "id": "1531c376",
   "metadata": {},
   "outputs": [
    {
     "data": {
      "text/plain": [
       "Index(['Landslide', 'Aspect', 'Curvature', 'Earthquake', 'Elevation', 'Flow',\n",
       "       'Lithology', 'NDVI', 'NDWI', 'Plan', 'Precipitation', 'Profile',\n",
       "       'Slope'],\n",
       "      dtype='object')"
      ]
     },
     "execution_count": 11,
     "metadata": {},
     "output_type": "execute_result"
    }
   ],
   "source": [
    "df.columns"
   ]
  },
  {
   "cell_type": "code",
   "execution_count": 14,
   "id": "41c12660",
   "metadata": {},
   "outputs": [],
   "source": [
    "models = [logistic_regression_model, xgboost_tuned, svm_model, knn_model, voting_classifier]\n",
    "model_names = ['Logistic Regression', 'XGBoost', 'SVM', 'KNN', 'Voting Classifier']"
   ]
  },
  {
   "cell_type": "code",
   "execution_count": 16,
   "id": "cfa04865",
   "metadata": {},
   "outputs": [],
   "source": [
    "import ipywidgets as widgets\n",
    "from IPython.display import display\n",
    "import matplotlib.pyplot as plt\n",
    "\n",
    "attribute_columns = ['Aspect', 'Curvature', 'Earthquake', 'Elevation', 'Flow', 'Lithology', \n",
    "                     'NDVI', 'NDWI', 'Plan', 'Precipitation', 'Profile', 'Slope']\n",
    "\n",
    "sliders = {col: widgets.IntSlider(min=1, max=5, description=col) for col in attribute_columns}\n",
    "\n",
    "model_selection = widgets.Dropdown(options=model_names, description='Model')\n",
    "\n",
    "predict_button = widgets.Button(description='Predict')\n",
    "\n",
    "output = widgets.Output()"
   ]
  },
  {
   "cell_type": "code",
   "execution_count": 23,
   "id": "e6cfcf20",
   "metadata": {},
   "outputs": [],
   "source": [
    "def make_prediction(b):\n",
    "    with output:\n",
    "        output.clear_output()\n",
    "        selected_model = models[model_names.index(model_selection.value)]\n",
    "        input_data = {col: [slider.value] for col, slider in sliders.items()}\n",
    "        input_df = pd.DataFrame(input_data)\n",
    "        prediction = selected_model.predict(input_df)\n",
    "        print(f\"Predicted landslide: {prediction}\")"
   ]
  },
  {
   "cell_type": "code",
   "execution_count": 24,
   "id": "2f69318e",
   "metadata": {},
   "outputs": [],
   "source": [
    "predict_button.on_click(make_prediction)"
   ]
  },
  {
   "cell_type": "code",
   "execution_count": 25,
   "id": "782c734f",
   "metadata": {},
   "outputs": [
    {
     "data": {
      "application/vnd.jupyter.widget-view+json": {
       "model_id": "a9ec35ef264b4284a95fd2716f086a9b",
       "version_major": 2,
       "version_minor": 0
      },
      "text/plain": [
       "VBox(children=(IntSlider(value=1, description='Aspect', max=5, min=1), IntSlider(value=1, description='Curvatu…"
      ]
     },
     "metadata": {},
     "output_type": "display_data"
    }
   ],
   "source": [
    "display(widgets.VBox(list(sliders.values()) + [model_selection, predict_button, output]))"
   ]
  },
  {
   "cell_type": "code",
   "execution_count": null,
   "id": "7f536f57",
   "metadata": {},
   "outputs": [],
   "source": []
  }
 ],
 "metadata": {
  "kernelspec": {
   "display_name": "Python 3 (ipykernel)",
   "language": "python",
   "name": "python3"
  },
  "language_info": {
   "codemirror_mode": {
    "name": "ipython",
    "version": 3
   },
   "file_extension": ".py",
   "mimetype": "text/x-python",
   "name": "python",
   "nbconvert_exporter": "python",
   "pygments_lexer": "ipython3",
   "version": "3.11.5"
  }
 },
 "nbformat": 4,
 "nbformat_minor": 5
}
