{
 "cells": [
  {
   "cell_type": "code",
   "execution_count": 1,
   "id": "03eca99c",
   "metadata": {},
   "outputs": [
    {
     "name": "stdout",
     "output_type": "stream",
     "text": [
      "Requirement already satisfied: scikeras in c:\\users\\nath\\anaconda3\\lib\\site-packages (0.12.0)\n",
      "Requirement already satisfied: packaging>=0.21 in c:\\users\\nath\\anaconda3\\lib\\site-packages (from scikeras) (23.1)\n",
      "Requirement already satisfied: scikit-learn>=1.0.0 in c:\\users\\nath\\anaconda3\\lib\\site-packages (from scikeras) (1.3.0)\n",
      "Requirement already satisfied: tensorflow-io-gcs-filesystem<0.32,>=0.23.1 in c:\\users\\nath\\anaconda3\\lib\\site-packages (from scikeras) (0.31.0)\n",
      "Requirement already satisfied: numpy>=1.17.3 in c:\\users\\nath\\anaconda3\\lib\\site-packages (from scikit-learn>=1.0.0->scikeras) (1.24.3)\n",
      "Requirement already satisfied: scipy>=1.5.0 in c:\\users\\nath\\anaconda3\\lib\\site-packages (from scikit-learn>=1.0.0->scikeras) (1.11.1)\n",
      "Requirement already satisfied: joblib>=1.1.1 in c:\\users\\nath\\anaconda3\\lib\\site-packages (from scikit-learn>=1.0.0->scikeras) (1.2.0)\n",
      "Requirement already satisfied: threadpoolctl>=2.0.0 in c:\\users\\nath\\anaconda3\\lib\\site-packages (from scikit-learn>=1.0.0->scikeras) (2.2.0)\n"
     ]
    },
    {
     "name": "stderr",
     "output_type": "stream",
     "text": [
      "WARNING: There was an error checking the latest version of pip.\n"
     ]
    }
   ],
   "source": [
    "!pip install scikeras"
   ]
  },
  {
   "cell_type": "code",
   "execution_count": 2,
   "id": "61fcaeeb",
   "metadata": {},
   "outputs": [
    {
     "name": "stdout",
     "output_type": "stream",
     "text": [
      "WARNING:tensorflow:From C:\\Users\\Nath\\anaconda3\\Lib\\site-packages\\keras\\src\\losses.py:2976: The name tf.losses.sparse_softmax_cross_entropy is deprecated. Please use tf.compat.v1.losses.sparse_softmax_cross_entropy instead.\n",
      "\n"
     ]
    }
   ],
   "source": [
    "import pandas as pd\n",
    "from sklearn.model_selection import train_test_split\n",
    "from sklearn.preprocessing import StandardScaler\n",
    "from sklearn.svm import SVC\n",
    "from scikeras.wrappers import KerasClassifier\n",
    "from sklearn.model_selection import GridSearchCV\n",
    "from keras.models import Sequential\n",
    "from keras.layers import Dense\n",
    "import numpy as np"
   ]
  },
  {
   "cell_type": "code",
   "execution_count": 3,
   "id": "db85a8c8",
   "metadata": {},
   "outputs": [],
   "source": [
    "df = pd.read_csv('./Complete-data.csv')\n",
    "\n",
    "X = df.drop(columns=['Landslide'])\n",
    "y = df['Landslide']\n",
    "\n",
    "X_train, X_test, y_train, y_test = train_test_split(X, y, test_size=0.2, random_state=42)"
   ]
  },
  {
   "cell_type": "code",
   "execution_count": 4,
   "id": "561bece3",
   "metadata": {},
   "outputs": [
    {
     "data": {
      "text/plain": [
       "Index(['Landslide', 'Aspect', 'Curvature', 'Earthquake', 'Elevation', 'Flow',\n",
       "       'Lithology', 'NDVI', 'NDWI', 'Plan', 'Precipitation', 'Profile',\n",
       "       'Slope'],\n",
       "      dtype='object')"
      ]
     },
     "execution_count": 4,
     "metadata": {},
     "output_type": "execute_result"
    }
   ],
   "source": [
    "df.columns"
   ]
  },
  {
   "cell_type": "code",
   "execution_count": 5,
   "id": "f58ae846",
   "metadata": {},
   "outputs": [
    {
     "data": {
      "text/html": [
       "<style>#sk-container-id-1 {color: black;}#sk-container-id-1 pre{padding: 0;}#sk-container-id-1 div.sk-toggleable {background-color: white;}#sk-container-id-1 label.sk-toggleable__label {cursor: pointer;display: block;width: 100%;margin-bottom: 0;padding: 0.3em;box-sizing: border-box;text-align: center;}#sk-container-id-1 label.sk-toggleable__label-arrow:before {content: \"▸\";float: left;margin-right: 0.25em;color: #696969;}#sk-container-id-1 label.sk-toggleable__label-arrow:hover:before {color: black;}#sk-container-id-1 div.sk-estimator:hover label.sk-toggleable__label-arrow:before {color: black;}#sk-container-id-1 div.sk-toggleable__content {max-height: 0;max-width: 0;overflow: hidden;text-align: left;background-color: #f0f8ff;}#sk-container-id-1 div.sk-toggleable__content pre {margin: 0.2em;color: black;border-radius: 0.25em;background-color: #f0f8ff;}#sk-container-id-1 input.sk-toggleable__control:checked~div.sk-toggleable__content {max-height: 200px;max-width: 100%;overflow: auto;}#sk-container-id-1 input.sk-toggleable__control:checked~label.sk-toggleable__label-arrow:before {content: \"▾\";}#sk-container-id-1 div.sk-estimator input.sk-toggleable__control:checked~label.sk-toggleable__label {background-color: #d4ebff;}#sk-container-id-1 div.sk-label input.sk-toggleable__control:checked~label.sk-toggleable__label {background-color: #d4ebff;}#sk-container-id-1 input.sk-hidden--visually {border: 0;clip: rect(1px 1px 1px 1px);clip: rect(1px, 1px, 1px, 1px);height: 1px;margin: -1px;overflow: hidden;padding: 0;position: absolute;width: 1px;}#sk-container-id-1 div.sk-estimator {font-family: monospace;background-color: #f0f8ff;border: 1px dotted black;border-radius: 0.25em;box-sizing: border-box;margin-bottom: 0.5em;}#sk-container-id-1 div.sk-estimator:hover {background-color: #d4ebff;}#sk-container-id-1 div.sk-parallel-item::after {content: \"\";width: 100%;border-bottom: 1px solid gray;flex-grow: 1;}#sk-container-id-1 div.sk-label:hover label.sk-toggleable__label {background-color: #d4ebff;}#sk-container-id-1 div.sk-serial::before {content: \"\";position: absolute;border-left: 1px solid gray;box-sizing: border-box;top: 0;bottom: 0;left: 50%;z-index: 0;}#sk-container-id-1 div.sk-serial {display: flex;flex-direction: column;align-items: center;background-color: white;padding-right: 0.2em;padding-left: 0.2em;position: relative;}#sk-container-id-1 div.sk-item {position: relative;z-index: 1;}#sk-container-id-1 div.sk-parallel {display: flex;align-items: stretch;justify-content: center;background-color: white;position: relative;}#sk-container-id-1 div.sk-item::before, #sk-container-id-1 div.sk-parallel-item::before {content: \"\";position: absolute;border-left: 1px solid gray;box-sizing: border-box;top: 0;bottom: 0;left: 50%;z-index: -1;}#sk-container-id-1 div.sk-parallel-item {display: flex;flex-direction: column;z-index: 1;position: relative;background-color: white;}#sk-container-id-1 div.sk-parallel-item:first-child::after {align-self: flex-end;width: 50%;}#sk-container-id-1 div.sk-parallel-item:last-child::after {align-self: flex-start;width: 50%;}#sk-container-id-1 div.sk-parallel-item:only-child::after {width: 0;}#sk-container-id-1 div.sk-dashed-wrapped {border: 1px dashed gray;margin: 0 0.4em 0.5em 0.4em;box-sizing: border-box;padding-bottom: 0.4em;background-color: white;}#sk-container-id-1 div.sk-label label {font-family: monospace;font-weight: bold;display: inline-block;line-height: 1.2em;}#sk-container-id-1 div.sk-label-container {text-align: center;}#sk-container-id-1 div.sk-container {/* jupyter's `normalize.less` sets `[hidden] { display: none; }` but bootstrap.min.css set `[hidden] { display: none !important; }` so we also need the `!important` here to be able to override the default hidden behavior on the sphinx rendered scikit-learn.org. See: https://github.com/scikit-learn/scikit-learn/issues/21755 */display: inline-block !important;position: relative;}#sk-container-id-1 div.sk-text-repr-fallback {display: none;}</style><div id=\"sk-container-id-1\" class=\"sk-top-container\"><div class=\"sk-text-repr-fallback\"><pre>SVC(C=10, gamma=0.01, kernel=&#x27;poly&#x27;, probability=True)</pre><b>In a Jupyter environment, please rerun this cell to show the HTML representation or trust the notebook. <br />On GitHub, the HTML representation is unable to render, please try loading this page with nbviewer.org.</b></div><div class=\"sk-container\" hidden><div class=\"sk-item\"><div class=\"sk-estimator sk-toggleable\"><input class=\"sk-toggleable__control sk-hidden--visually\" id=\"sk-estimator-id-1\" type=\"checkbox\" checked><label for=\"sk-estimator-id-1\" class=\"sk-toggleable__label sk-toggleable__label-arrow\">SVC</label><div class=\"sk-toggleable__content\"><pre>SVC(C=10, gamma=0.01, kernel=&#x27;poly&#x27;, probability=True)</pre></div></div></div></div></div>"
      ],
      "text/plain": [
       "SVC(C=10, gamma=0.01, kernel='poly', probability=True)"
      ]
     },
     "execution_count": 5,
     "metadata": {},
     "output_type": "execute_result"
    }
   ],
   "source": [
    "svm_clf = SVC(C= 10, gamma = 0.01, kernel = 'poly', probability=True)\n",
    "svm_clf.fit(X_train, y_train)"
   ]
  },
  {
   "cell_type": "code",
   "execution_count": 6,
   "id": "fa8c078e",
   "metadata": {},
   "outputs": [
    {
     "name": "stdout",
     "output_type": "stream",
     "text": [
      "WARNING:tensorflow:From C:\\Users\\Nath\\anaconda3\\Lib\\site-packages\\keras\\src\\backend.py:873: The name tf.get_default_graph is deprecated. Please use tf.compat.v1.get_default_graph instead.\n",
      "\n",
      "WARNING:tensorflow:From C:\\Users\\Nath\\anaconda3\\Lib\\site-packages\\keras\\src\\optimizers\\__init__.py:309: The name tf.train.Optimizer is deprecated. Please use tf.compat.v1.train.Optimizer instead.\n",
      "\n",
      "Model: \"sequential\"\n",
      "_________________________________________________________________\n",
      " Layer (type)                Output Shape              Param #   \n",
      "=================================================================\n",
      " dense (Dense)               (None, 128)               1664      \n",
      "                                                                 \n",
      " dense_1 (Dense)             (None, 1)                 129       \n",
      "                                                                 \n",
      "=================================================================\n",
      "Total params: 1793 (7.00 KB)\n",
      "Trainable params: 1793 (7.00 KB)\n",
      "Non-trainable params: 0 (0.00 Byte)\n",
      "_________________________________________________________________\n"
     ]
    }
   ],
   "source": [
    "#https://www.atmosera.com/blog/binary-classification-with-neural-networks/\n",
    "from keras.models import Sequential\n",
    "from keras.layers import Dense\n",
    " \n",
    "model = Sequential() \n",
    "model.add(Dense(128, activation='relu', input_dim=12))\n",
    "model.add(Dense(1, activation='sigmoid')) \n",
    "model.compile(loss='binary_crossentropy', optimizer='adam', metrics=['accuracy']) \n",
    "model.summary()"
   ]
  },
  {
   "cell_type": "code",
   "execution_count": 7,
   "id": "b0716779",
   "metadata": {},
   "outputs": [
    {
     "name": "stdout",
     "output_type": "stream",
     "text": [
      "Epoch 1/50\n",
      "WARNING:tensorflow:From C:\\Users\\Nath\\anaconda3\\Lib\\site-packages\\keras\\src\\utils\\tf_utils.py:492: The name tf.ragged.RaggedTensorValue is deprecated. Please use tf.compat.v1.ragged.RaggedTensorValue instead.\n",
      "\n",
      "WARNING:tensorflow:From C:\\Users\\Nath\\anaconda3\\Lib\\site-packages\\keras\\src\\engine\\base_layer_utils.py:384: The name tf.executing_eagerly_outside_functions is deprecated. Please use tf.compat.v1.executing_eagerly_outside_functions instead.\n",
      "\n",
      "4/4 [==============================] - 1s 55ms/step - loss: 0.8371 - accuracy: 0.5150 - val_loss: 0.7282 - val_accuracy: 0.4486\n",
      "Epoch 2/50\n",
      "4/4 [==============================] - 0s 9ms/step - loss: 0.7109 - accuracy: 0.4985 - val_loss: 0.6867 - val_accuracy: 0.5638\n",
      "Epoch 3/50\n",
      "4/4 [==============================] - 0s 10ms/step - loss: 0.7251 - accuracy: 0.4788 - val_loss: 0.6669 - val_accuracy: 0.5679\n",
      "Epoch 4/50\n",
      "4/4 [==============================] - 0s 11ms/step - loss: 0.6842 - accuracy: 0.5490 - val_loss: 0.6625 - val_accuracy: 0.6049\n",
      "Epoch 5/50\n",
      "4/4 [==============================] - 0s 9ms/step - loss: 0.6566 - accuracy: 0.6182 - val_loss: 0.6837 - val_accuracy: 0.5638\n",
      "Epoch 6/50\n",
      "4/4 [==============================] - 0s 9ms/step - loss: 0.6481 - accuracy: 0.6254 - val_loss: 0.6625 - val_accuracy: 0.5926\n",
      "Epoch 7/50\n",
      "4/4 [==============================] - 0s 9ms/step - loss: 0.6292 - accuracy: 0.6646 - val_loss: 0.6250 - val_accuracy: 0.6543\n",
      "Epoch 8/50\n",
      "4/4 [==============================] - 0s 14ms/step - loss: 0.6164 - accuracy: 0.6976 - val_loss: 0.6060 - val_accuracy: 0.6872\n",
      "Epoch 9/50\n",
      "4/4 [==============================] - 0s 9ms/step - loss: 0.6080 - accuracy: 0.7121 - val_loss: 0.6037 - val_accuracy: 0.6790\n",
      "Epoch 10/50\n",
      "4/4 [==============================] - 0s 10ms/step - loss: 0.5981 - accuracy: 0.7224 - val_loss: 0.6063 - val_accuracy: 0.6872\n",
      "Epoch 11/50\n",
      "4/4 [==============================] - 0s 10ms/step - loss: 0.5914 - accuracy: 0.7152 - val_loss: 0.6040 - val_accuracy: 0.6872\n",
      "Epoch 12/50\n",
      "4/4 [==============================] - 0s 9ms/step - loss: 0.5866 - accuracy: 0.7255 - val_loss: 0.5932 - val_accuracy: 0.6996\n",
      "Epoch 13/50\n",
      "4/4 [==============================] - 0s 10ms/step - loss: 0.5815 - accuracy: 0.7348 - val_loss: 0.5877 - val_accuracy: 0.7037\n",
      "Epoch 14/50\n",
      "4/4 [==============================] - 0s 16ms/step - loss: 0.5772 - accuracy: 0.7389 - val_loss: 0.5907 - val_accuracy: 0.7037\n",
      "Epoch 15/50\n",
      "4/4 [==============================] - 0s 18ms/step - loss: 0.5731 - accuracy: 0.7348 - val_loss: 0.5869 - val_accuracy: 0.7078\n",
      "Epoch 16/50\n",
      "4/4 [==============================] - 0s 13ms/step - loss: 0.5689 - accuracy: 0.7451 - val_loss: 0.5772 - val_accuracy: 0.7078\n",
      "Epoch 17/50\n",
      "4/4 [==============================] - 0s 13ms/step - loss: 0.5666 - accuracy: 0.7544 - val_loss: 0.5767 - val_accuracy: 0.7037\n",
      "Epoch 18/50\n",
      "4/4 [==============================] - 0s 15ms/step - loss: 0.5628 - accuracy: 0.7503 - val_loss: 0.5746 - val_accuracy: 0.7119\n",
      "Epoch 19/50\n",
      "4/4 [==============================] - 0s 19ms/step - loss: 0.5600 - accuracy: 0.7503 - val_loss: 0.5749 - val_accuracy: 0.7037\n",
      "Epoch 20/50\n",
      "4/4 [==============================] - 0s 16ms/step - loss: 0.5573 - accuracy: 0.7513 - val_loss: 0.5792 - val_accuracy: 0.7078\n",
      "Epoch 21/50\n",
      "4/4 [==============================] - 0s 16ms/step - loss: 0.5551 - accuracy: 0.7523 - val_loss: 0.5706 - val_accuracy: 0.7160\n",
      "Epoch 22/50\n",
      "4/4 [==============================] - 0s 13ms/step - loss: 0.5527 - accuracy: 0.7503 - val_loss: 0.5662 - val_accuracy: 0.7243\n",
      "Epoch 23/50\n",
      "4/4 [==============================] - 0s 17ms/step - loss: 0.5502 - accuracy: 0.7523 - val_loss: 0.5670 - val_accuracy: 0.7284\n",
      "Epoch 24/50\n",
      "4/4 [==============================] - 0s 13ms/step - loss: 0.5481 - accuracy: 0.7564 - val_loss: 0.5749 - val_accuracy: 0.7078\n",
      "Epoch 25/50\n",
      "4/4 [==============================] - 0s 16ms/step - loss: 0.5463 - accuracy: 0.7575 - val_loss: 0.5634 - val_accuracy: 0.7325\n",
      "Epoch 26/50\n",
      "4/4 [==============================] - 0s 14ms/step - loss: 0.5433 - accuracy: 0.7544 - val_loss: 0.5600 - val_accuracy: 0.7366\n",
      "Epoch 27/50\n",
      "4/4 [==============================] - 0s 14ms/step - loss: 0.5411 - accuracy: 0.7554 - val_loss: 0.5625 - val_accuracy: 0.7284\n",
      "Epoch 28/50\n",
      "4/4 [==============================] - 0s 16ms/step - loss: 0.5392 - accuracy: 0.7595 - val_loss: 0.5647 - val_accuracy: 0.7202\n",
      "Epoch 29/50\n",
      "4/4 [==============================] - 0s 16ms/step - loss: 0.5377 - accuracy: 0.7554 - val_loss: 0.5588 - val_accuracy: 0.7366\n",
      "Epoch 30/50\n",
      "4/4 [==============================] - 0s 13ms/step - loss: 0.5352 - accuracy: 0.7575 - val_loss: 0.5555 - val_accuracy: 0.7407\n",
      "Epoch 31/50\n",
      "4/4 [==============================] - 0s 11ms/step - loss: 0.5332 - accuracy: 0.7595 - val_loss: 0.5555 - val_accuracy: 0.7407\n",
      "Epoch 32/50\n",
      "4/4 [==============================] - 0s 10ms/step - loss: 0.5312 - accuracy: 0.7575 - val_loss: 0.5573 - val_accuracy: 0.7366\n",
      "Epoch 33/50\n",
      "4/4 [==============================] - 0s 10ms/step - loss: 0.5299 - accuracy: 0.7575 - val_loss: 0.5538 - val_accuracy: 0.7366\n",
      "Epoch 34/50\n",
      "4/4 [==============================] - 0s 11ms/step - loss: 0.5281 - accuracy: 0.7626 - val_loss: 0.5493 - val_accuracy: 0.7366\n",
      "Epoch 35/50\n",
      "4/4 [==============================] - 0s 14ms/step - loss: 0.5265 - accuracy: 0.7657 - val_loss: 0.5499 - val_accuracy: 0.7407\n",
      "Epoch 36/50\n",
      "4/4 [==============================] - 0s 11ms/step - loss: 0.5267 - accuracy: 0.7585 - val_loss: 0.5590 - val_accuracy: 0.7243\n",
      "Epoch 37/50\n",
      "4/4 [==============================] - 0s 14ms/step - loss: 0.5234 - accuracy: 0.7616 - val_loss: 0.5419 - val_accuracy: 0.7572\n",
      "Epoch 38/50\n",
      "4/4 [==============================] - 0s 11ms/step - loss: 0.5227 - accuracy: 0.7678 - val_loss: 0.5450 - val_accuracy: 0.7449\n",
      "Epoch 39/50\n",
      "4/4 [==============================] - 0s 10ms/step - loss: 0.5201 - accuracy: 0.7709 - val_loss: 0.5487 - val_accuracy: 0.7366\n",
      "Epoch 40/50\n",
      "4/4 [==============================] - 0s 10ms/step - loss: 0.5187 - accuracy: 0.7647 - val_loss: 0.5432 - val_accuracy: 0.7572\n",
      "Epoch 41/50\n",
      "4/4 [==============================] - 0s 11ms/step - loss: 0.5175 - accuracy: 0.7647 - val_loss: 0.5465 - val_accuracy: 0.7449\n",
      "Epoch 42/50\n",
      "4/4 [==============================] - 0s 12ms/step - loss: 0.5160 - accuracy: 0.7709 - val_loss: 0.5406 - val_accuracy: 0.7613\n",
      "Epoch 43/50\n",
      "4/4 [==============================] - 0s 16ms/step - loss: 0.5144 - accuracy: 0.7699 - val_loss: 0.5467 - val_accuracy: 0.7449\n",
      "Epoch 44/50\n",
      "4/4 [==============================] - 0s 12ms/step - loss: 0.5128 - accuracy: 0.7688 - val_loss: 0.5422 - val_accuracy: 0.7531\n",
      "Epoch 45/50\n",
      "4/4 [==============================] - 0s 12ms/step - loss: 0.5114 - accuracy: 0.7740 - val_loss: 0.5383 - val_accuracy: 0.7572\n",
      "Epoch 46/50\n",
      "4/4 [==============================] - 0s 16ms/step - loss: 0.5102 - accuracy: 0.7750 - val_loss: 0.5369 - val_accuracy: 0.7572\n",
      "Epoch 47/50\n",
      "4/4 [==============================] - 0s 10ms/step - loss: 0.5086 - accuracy: 0.7750 - val_loss: 0.5410 - val_accuracy: 0.7531\n",
      "Epoch 48/50\n",
      "4/4 [==============================] - 0s 10ms/step - loss: 0.5078 - accuracy: 0.7647 - val_loss: 0.5420 - val_accuracy: 0.7531\n",
      "Epoch 49/50\n",
      "4/4 [==============================] - 0s 12ms/step - loss: 0.5059 - accuracy: 0.7740 - val_loss: 0.5342 - val_accuracy: 0.7572\n",
      "Epoch 50/50\n",
      "4/4 [==============================] - 0s 10ms/step - loss: 0.5048 - accuracy: 0.7761 - val_loss: 0.5355 - val_accuracy: 0.7572\n"
     ]
    }
   ],
   "source": [
    "hist = model.fit(X_train, y_train, validation_data=(X_test, y_test), epochs=50, batch_size=250)"
   ]
  },
  {
   "cell_type": "code",
   "execution_count": 8,
   "id": "9e718fca",
   "metadata": {},
   "outputs": [
    {
     "data": {
      "text/plain": [
       "[]"
      ]
     },
     "execution_count": 8,
     "metadata": {},
     "output_type": "execute_result"
    },
    {
     "data": {
      "image/png": "[encoded data removed]",
      "text/plain": [
       "<Figure size 640x480 with 1 Axes>"
      ]
     },
     "metadata": {},
     "output_type": "display_data"
    }
   ],
   "source": [
    "import matplotlib.pyplot as plt\n",
    "%matplotlib inline\n",
    "import seaborn as sns\n",
    "sns.set()\n",
    " \n",
    "acc = hist.history['accuracy']\n",
    "val = hist.history['val_accuracy']\n",
    "epochs = range(1, len(acc) + 1)\n",
    " \n",
    "plt.plot(epochs, acc, '-', label='Training accuracy')\n",
    "plt.plot(epochs, val, ':', label='Validation accuracy')\n",
    "plt.title('Training and Validation Accuracy')\n",
    "plt.xlabel('Epoch')\n",
    "plt.ylabel('Accuracy')\n",
    "plt.legend(loc='lower right')\n",
    "plt.plot()"
   ]
  },
  {
   "cell_type": "code",
   "execution_count": 9,
   "id": "6584dc7f",
   "metadata": {},
   "outputs": [
    {
     "name": "stdout",
     "output_type": "stream",
     "text": [
      "8/8 [==============================] - 0s 2ms/step\n"
     ]
    },
    {
     "data": {
      "text/plain": [
       "Text(110.44999999999997, 0.5, 'Actual label')"
      ]
     },
     "execution_count": 9,
     "metadata": {},
     "output_type": "execute_result"
    },
    {
     "data": {
      "image/png": "[encoded data removed]",
      "text/plain": [
       "<Figure size 640x480 with 1 Axes>"
      ]
     },
     "metadata": {},
     "output_type": "display_data"
    }
   ],
   "source": [
    "from sklearn.metrics import confusion_matrix\n",
    " \n",
    "y_predicted = model.predict(X_test) > 0.5\n",
    "mat = confusion_matrix(y_test, y_predicted)\n",
    " \n",
    "sns.heatmap(mat, square=True, annot=True, fmt='d', cbar=False, cmap='Blues')\n",
    " \n",
    "plt.xlabel('Predicted label')\n",
    "plt.ylabel('Actual label')"
   ]
  },
  {
   "cell_type": "code",
   "execution_count": 10,
   "id": "be27484c",
   "metadata": {},
   "outputs": [
    {
     "name": "stdout",
     "output_type": "stream",
     "text": [
      "31/31 [==============================] - 0s 2ms/step\n"
     ]
    }
   ],
   "source": [
    "svm_predictions = svm_clf.predict_proba(X_train)[:, 1]\n",
    "keras_predictions = model.predict(X_train)"
   ]
  },
  {
   "cell_type": "code",
   "execution_count": 11,
   "id": "0d112d88",
   "metadata": {},
   "outputs": [
    {
     "name": "stdout",
     "output_type": "stream",
     "text": [
      "31/31 [==============================] - 0s 904us/step\n",
      "(969, 1)\n",
      "8/8 [==============================] - 0s 2ms/step\n",
      "(243, 1)\n"
     ]
    }
   ],
   "source": [
    "from keras.models import Sequential, Model\n",
    "model_feat = Model(inputs=model.input,outputs=model.get_layer('dense_1').output)\n",
    "\n",
    "feat_train = model_feat.predict(X_train)\n",
    "print(feat_train.shape)\n",
    "\n",
    "feat_test = model_feat.predict(X_test)\n",
    "print(feat_test.shape)"
   ]
  },
  {
   "cell_type": "code",
   "execution_count": 12,
   "id": "8870df1b",
   "metadata": {},
   "outputs": [
    {
     "data": {
      "text/html": [
       "<style>#sk-container-id-2 {color: black;}#sk-container-id-2 pre{padding: 0;}#sk-container-id-2 div.sk-toggleable {background-color: white;}#sk-container-id-2 label.sk-toggleable__label {cursor: pointer;display: block;width: 100%;margin-bottom: 0;padding: 0.3em;box-sizing: border-box;text-align: center;}#sk-container-id-2 label.sk-toggleable__label-arrow:before {content: \"▸\";float: left;margin-right: 0.25em;color: #696969;}#sk-container-id-2 label.sk-toggleable__label-arrow:hover:before {color: black;}#sk-container-id-2 div.sk-estimator:hover label.sk-toggleable__label-arrow:before {color: black;}#sk-container-id-2 div.sk-toggleable__content {max-height: 0;max-width: 0;overflow: hidden;text-align: left;background-color: #f0f8ff;}#sk-container-id-2 div.sk-toggleable__content pre {margin: 0.2em;color: black;border-radius: 0.25em;background-color: #f0f8ff;}#sk-container-id-2 input.sk-toggleable__control:checked~div.sk-toggleable__content {max-height: 200px;max-width: 100%;overflow: auto;}#sk-container-id-2 input.sk-toggleable__control:checked~label.sk-toggleable__label-arrow:before {content: \"▾\";}#sk-container-id-2 div.sk-estimator input.sk-toggleable__control:checked~label.sk-toggleable__label {background-color: #d4ebff;}#sk-container-id-2 div.sk-label input.sk-toggleable__control:checked~label.sk-toggleable__label {background-color: #d4ebff;}#sk-container-id-2 input.sk-hidden--visually {border: 0;clip: rect(1px 1px 1px 1px);clip: rect(1px, 1px, 1px, 1px);height: 1px;margin: -1px;overflow: hidden;padding: 0;position: absolute;width: 1px;}#sk-container-id-2 div.sk-estimator {font-family: monospace;background-color: #f0f8ff;border: 1px dotted black;border-radius: 0.25em;box-sizing: border-box;margin-bottom: 0.5em;}#sk-container-id-2 div.sk-estimator:hover {background-color: #d4ebff;}#sk-container-id-2 div.sk-parallel-item::after {content: \"\";width: 100%;border-bottom: 1px solid gray;flex-grow: 1;}#sk-container-id-2 div.sk-label:hover label.sk-toggleable__label {background-color: #d4ebff;}#sk-container-id-2 div.sk-serial::before {content: \"\";position: absolute;border-left: 1px solid gray;box-sizing: border-box;top: 0;bottom: 0;left: 50%;z-index: 0;}#sk-container-id-2 div.sk-serial {display: flex;flex-direction: column;align-items: center;background-color: white;padding-right: 0.2em;padding-left: 0.2em;position: relative;}#sk-container-id-2 div.sk-item {position: relative;z-index: 1;}#sk-container-id-2 div.sk-parallel {display: flex;align-items: stretch;justify-content: center;background-color: white;position: relative;}#sk-container-id-2 div.sk-item::before, #sk-container-id-2 div.sk-parallel-item::before {content: \"\";position: absolute;border-left: 1px solid gray;box-sizing: border-box;top: 0;bottom: 0;left: 50%;z-index: -1;}#sk-container-id-2 div.sk-parallel-item {display: flex;flex-direction: column;z-index: 1;position: relative;background-color: white;}#sk-container-id-2 div.sk-parallel-item:first-child::after {align-self: flex-end;width: 50%;}#sk-container-id-2 div.sk-parallel-item:last-child::after {align-self: flex-start;width: 50%;}#sk-container-id-2 div.sk-parallel-item:only-child::after {width: 0;}#sk-container-id-2 div.sk-dashed-wrapped {border: 1px dashed gray;margin: 0 0.4em 0.5em 0.4em;box-sizing: border-box;padding-bottom: 0.4em;background-color: white;}#sk-container-id-2 div.sk-label label {font-family: monospace;font-weight: bold;display: inline-block;line-height: 1.2em;}#sk-container-id-2 div.sk-label-container {text-align: center;}#sk-container-id-2 div.sk-container {/* jupyter's `normalize.less` sets `[hidden] { display: none; }` but bootstrap.min.css set `[hidden] { display: none !important; }` so we also need the `!important` here to be able to override the default hidden behavior on the sphinx rendered scikit-learn.org. See: https://github.com/scikit-learn/scikit-learn/issues/21755 */display: inline-block !important;position: relative;}#sk-container-id-2 div.sk-text-repr-fallback {display: none;}</style><div id=\"sk-container-id-2\" class=\"sk-top-container\"><div class=\"sk-text-repr-fallback\"><pre>SVC()</pre><b>In a Jupyter environment, please rerun this cell to show the HTML representation or trust the notebook. <br />On GitHub, the HTML representation is unable to render, please try loading this page with nbviewer.org.</b></div><div class=\"sk-container\" hidden><div class=\"sk-item\"><div class=\"sk-estimator sk-toggleable\"><input class=\"sk-toggleable__control sk-hidden--visually\" id=\"sk-estimator-id-2\" type=\"checkbox\" checked><label for=\"sk-estimator-id-2\" class=\"sk-toggleable__label sk-toggleable__label-arrow\">SVC</label><div class=\"sk-toggleable__content\"><pre>SVC()</pre></div></div></div></div></div>"
      ],
      "text/plain": [
       "SVC()"
      ]
     },
     "execution_count": 12,
     "metadata": {},
     "output_type": "execute_result"
    }
   ],
   "source": [
    "svm = SVC(kernel='rbf')\n",
    "svm.fit(feat_train, y_train)"
   ]
  },
  {
   "cell_type": "code",
   "execution_count": 13,
   "id": "c1bfb116",
   "metadata": {},
   "outputs": [
    {
     "name": "stdout",
     "output_type": "stream",
     "text": [
      "SVM Accuracy: 0.7781217750257998\n"
     ]
    }
   ],
   "source": [
    "svm_score = svm.score(feat_train, y_train)\n",
    "print(\"SVM Accuracy:\", svm_score)"
   ]
  },
  {
   "cell_type": "code",
   "execution_count": 14,
   "id": "b57d571c",
   "metadata": {},
   "outputs": [],
   "source": [
    "Pred_labels = svm.predict(feat_test)"
   ]
  },
  {
   "cell_type": "code",
   "execution_count": 15,
   "id": "c4f3e185",
   "metadata": {},
   "outputs": [
    {
     "name": "stdout",
     "output_type": "stream",
     "text": [
      "CNN-SVM Accuracy: 0.757201646090535\n"
     ]
    }
   ],
   "source": [
    "svm_score = svm.score(np.array(y_test).reshape(-1, 1), Pred_labels)\n",
    "print(\"CNN-SVM Accuracy:\", svm_score)"
   ]
  },
  {
   "cell_type": "code",
   "execution_count": 16,
   "id": "70c8f998",
   "metadata": {},
   "outputs": [
    {
     "data": {
      "text/plain": [
       "Text(110.44999999999997, 0.5, 'Actual label')"
      ]
     },
     "execution_count": 16,
     "metadata": {},
     "output_type": "execute_result"
    },
    {
     "data": {
      "image/png": "[encoded data removed]",
      "text/plain": [
       "<Figure size 640x480 with 1 Axes>"
      ]
     },
     "metadata": {},
     "output_type": "display_data"
    }
   ],
   "source": [
    "from sklearn.metrics import confusion_matrix\n",
    " \n",
    "conf_matrix_svm = confusion_matrix(y_test, Pred_labels)\n",
    " \n",
    "sns.heatmap(conf_matrix_svm, square=True, annot=True, fmt='d', cbar=False, cmap='Blues')\n",
    " \n",
    "plt.xlabel('Predicted label')\n",
    "plt.ylabel('Actual label')"
   ]
  },
  {
   "cell_type": "markdown",
   "id": "f2ff35e8",
   "metadata": {},
   "source": [
    "The CNN-SVM is where the CNN was used first to do the initial training and then the SVM classifier was trained after based on the CNN training and predictions. However the accuracy of this was still similar to other models we tested. SVM did not improve the model over the regular CNN. "
   ]
  },
  {
   "cell_type": "code",
   "execution_count": null,
   "id": "c6c1ec60",
   "metadata": {},
   "outputs": [],
   "source": []
  }
 ],
 "metadata": {
  "kernelspec": {
   "display_name": "Python 3 (ipykernel)",
   "language": "python",
   "name": "python3"
  },
  "language_info": {
   "codemirror_mode": {
    "name": "ipython",
    "version": 3
   },
   "file_extension": ".py",
   "mimetype": "text/x-python",
   "name": "python",
   "nbconvert_exporter": "python",
   "pygments_lexer": "ipython3",
   "version": "3.11.5"
  }
 },
 "nbformat": 4,
 "nbformat_minor": 5
}
